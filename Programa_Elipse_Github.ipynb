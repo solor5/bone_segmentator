{
  "nbformat": 4,
  "nbformat_minor": 0,
  "metadata": {
    "colab": {
      "name": "Programa_Elipse_Github.ipynb",
      "provenance": [],
      "collapsed_sections": []
    },
    "kernelspec": {
      "display_name": "Python 3",
      "name": "python3"
    }
  },
  "cells": [
    {
      "cell_type": "code",
      "metadata": {
        "colab": {
          "base_uri": "https://localhost:8080/",
          "height": 757
        },
        "id": "xpRC3eTJD48D",
        "outputId": "c017e916-c313-456b-fa8d-b3c5205759ac"
      },
      "source": [
        "!pip install -U ipykernel\r\n",
        "!pip install -q streamlit"
      ],
      "execution_count": null,
      "outputs": [
        {
          "output_type": "stream",
          "text": [
            "Collecting ipykernel\n",
            "\u001b[?25l  Downloading https://files.pythonhosted.org/packages/56/95/3a670c8b2c2370bd8631c313f42e60983b3113ffec4035940592252bd6d5/ipykernel-5.5.0-py3-none-any.whl (120kB)\n",
            "\r\u001b[K     |██▊                             | 10kB 16.9MB/s eta 0:00:01\r\u001b[K     |█████▍                          | 20kB 10.2MB/s eta 0:00:01\r\u001b[K     |████████▏                       | 30kB 7.5MB/s eta 0:00:01\r\u001b[K     |██████████▉                     | 40kB 6.8MB/s eta 0:00:01\r\u001b[K     |█████████████▋                  | 51kB 4.4MB/s eta 0:00:01\r\u001b[K     |████████████████▎               | 61kB 4.8MB/s eta 0:00:01\r\u001b[K     |███████████████████             | 71kB 4.9MB/s eta 0:00:01\r\u001b[K     |█████████████████████▊          | 81kB 5.1MB/s eta 0:00:01\r\u001b[K     |████████████████████████▍       | 92kB 5.3MB/s eta 0:00:01\r\u001b[K     |███████████████████████████▏    | 102kB 5.6MB/s eta 0:00:01\r\u001b[K     |█████████████████████████████▉  | 112kB 5.6MB/s eta 0:00:01\r\u001b[K     |████████████████████████████████| 122kB 5.6MB/s \n",
            "\u001b[?25hRequirement already satisfied, skipping upgrade: ipython>=5.0.0 in /usr/local/lib/python3.6/dist-packages (from ipykernel) (5.5.0)\n",
            "Requirement already satisfied, skipping upgrade: traitlets>=4.1.0 in /usr/local/lib/python3.6/dist-packages (from ipykernel) (4.3.3)\n",
            "Requirement already satisfied, skipping upgrade: tornado>=4.2 in /usr/local/lib/python3.6/dist-packages (from ipykernel) (5.1.1)\n",
            "Requirement already satisfied, skipping upgrade: jupyter-client in /usr/local/lib/python3.6/dist-packages (from ipykernel) (5.3.5)\n",
            "Requirement already satisfied, skipping upgrade: pygments in /usr/local/lib/python3.6/dist-packages (from ipython>=5.0.0->ipykernel) (2.6.1)\n",
            "Requirement already satisfied, skipping upgrade: pickleshare in /usr/local/lib/python3.6/dist-packages (from ipython>=5.0.0->ipykernel) (0.7.5)\n",
            "Requirement already satisfied, skipping upgrade: pexpect; sys_platform != \"win32\" in /usr/local/lib/python3.6/dist-packages (from ipython>=5.0.0->ipykernel) (4.8.0)\n",
            "Requirement already satisfied, skipping upgrade: decorator in /usr/local/lib/python3.6/dist-packages (from ipython>=5.0.0->ipykernel) (4.4.2)\n",
            "Requirement already satisfied, skipping upgrade: setuptools>=18.5 in /usr/local/lib/python3.6/dist-packages (from ipython>=5.0.0->ipykernel) (53.0.0)\n",
            "Requirement already satisfied, skipping upgrade: simplegeneric>0.8 in /usr/local/lib/python3.6/dist-packages (from ipython>=5.0.0->ipykernel) (0.8.1)\n",
            "Requirement already satisfied, skipping upgrade: prompt-toolkit<2.0.0,>=1.0.4 in /usr/local/lib/python3.6/dist-packages (from ipython>=5.0.0->ipykernel) (1.0.18)\n",
            "Requirement already satisfied, skipping upgrade: ipython-genutils in /usr/local/lib/python3.6/dist-packages (from traitlets>=4.1.0->ipykernel) (0.2.0)\n",
            "Requirement already satisfied, skipping upgrade: six in /usr/local/lib/python3.6/dist-packages (from traitlets>=4.1.0->ipykernel) (1.15.0)\n",
            "Requirement already satisfied, skipping upgrade: jupyter-core>=4.6.0 in /usr/local/lib/python3.6/dist-packages (from jupyter-client->ipykernel) (4.7.1)\n",
            "Requirement already satisfied, skipping upgrade: python-dateutil>=2.1 in /usr/local/lib/python3.6/dist-packages (from jupyter-client->ipykernel) (2.8.1)\n",
            "Requirement already satisfied, skipping upgrade: pyzmq>=13 in /usr/local/lib/python3.6/dist-packages (from jupyter-client->ipykernel) (22.0.2)\n",
            "Requirement already satisfied, skipping upgrade: ptyprocess>=0.5 in /usr/local/lib/python3.6/dist-packages (from pexpect; sys_platform != \"win32\"->ipython>=5.0.0->ipykernel) (0.7.0)\n",
            "Requirement already satisfied, skipping upgrade: wcwidth in /usr/local/lib/python3.6/dist-packages (from prompt-toolkit<2.0.0,>=1.0.4->ipython>=5.0.0->ipykernel) (0.2.5)\n",
            "\u001b[31mERROR: google-colab 1.0.0 has requirement ipykernel~=4.10, but you'll have ipykernel 5.5.0 which is incompatible.\u001b[0m\n",
            "Installing collected packages: ipykernel\n",
            "  Found existing installation: ipykernel 4.10.1\n",
            "    Uninstalling ipykernel-4.10.1:\n",
            "      Successfully uninstalled ipykernel-4.10.1\n",
            "Successfully installed ipykernel-5.5.0\n"
          ],
          "name": "stdout"
        },
        {
          "output_type": "display_data",
          "data": {
            "application/vnd.colab-display-data+json": {
              "pip_warning": {
                "packages": [
                  "ipykernel"
                ]
              }
            }
          },
          "metadata": {
            "tags": []
          }
        },
        {
          "output_type": "stream",
          "text": [
            "\u001b[K     |████████████████████████████████| 7.5MB 5.1MB/s \n",
            "\u001b[K     |████████████████████████████████| 163kB 53.3MB/s \n",
            "\u001b[K     |████████████████████████████████| 112kB 49.1MB/s \n",
            "\u001b[K     |████████████████████████████████| 4.6MB 45.6MB/s \n",
            "\u001b[K     |████████████████████████████████| 81kB 10.1MB/s \n",
            "\u001b[K     |████████████████████████████████| 71kB 9.5MB/s \n",
            "\u001b[?25h  Building wheel for blinker (setup.py) ... \u001b[?25l\u001b[?25hdone\n"
          ],
          "name": "stdout"
        }
      ]
    },
    {
      "cell_type": "code",
      "metadata": {
        "colab": {
          "base_uri": "https://localhost:8080/"
        },
        "id": "LBqkDhvpEd3o",
        "outputId": "3dfe8656-3415-435d-fecb-82a49f4817ea"
      },
      "source": [
        "%%writefile app.py\r\n",
        "import streamlit as st\r\n",
        "import io\r\n",
        "from pathlib import Path\r\n",
        "import numpy as np\r\n",
        "from numpy import arange\r\n",
        "from numpy import meshgrid\r\n",
        "import pandas as pd\r\n",
        "import matplotlib.pyplot as plt\r\n",
        "from sklearn import linear_model\r\n",
        "from PIL import Image\r\n",
        "import math\r\n",
        "import plotly.express as px\r\n",
        "import base64\r\n",
        "from io import BytesIO\r\n",
        "\r\n",
        "##FUNCIONES\r\n",
        "def ajuste(df):\r\n",
        "  xy=df.iloc[:,0:2].values #puntos X e Y\r\n",
        "  Dx=[]\r\n",
        "  for i in range(0,xy.shape[0],1):\r\n",
        "    x=xy[i,0] \r\n",
        "    y=xy[i,1]\r\n",
        "    Dx.append([x**2, x*y, y**2, x, y, 1])\r\n",
        "  M=np.matmul(np.transpose(Dx),np.array(Dx)) #Multiplicación entre la transpuesta de Dx y Dx\r\n",
        "  Eva, Eve=np.linalg.eig(M) #autovalores y autovectores\r\n",
        "  #Encontrar la posición del menor autovalor\r\n",
        "  posicion=np.where(Eva == np.amin(Eva)) #de aquí sale una tuple (tupla)\r\n",
        "  #Obteniendo el correspondiente autovector\r\n",
        "  coef=Eve[:,posicion[0][0]] #coef igual a \"a\"\r\n",
        "  return coef\r\n",
        "\r\n",
        "def grafica(df, coef, i, carac):\r\n",
        "  #GRÁFICA\r\n",
        "  delta = 2\r\n",
        "  xrange = arange(-(abs(df).max()['X']+5), (abs(df).max()['X']+5), delta)\r\n",
        "  yrange = arange(-(abs(df).max()['Y']+5), (abs(df).max()['Y']+5), delta)\r\n",
        "  X, Y = meshgrid(xrange,yrange)\r\n",
        "  fig, ax = plt.subplots(constrained_layout=True) #borre subplots\r\n",
        "  cs = ax.contour(X, Y, (coef[0]*X**2 + coef[1]*X*Y + coef[2]*Y**2 + coef[3]*X + coef[4]*Y + coef[5]), [0], colors='blue') #de nada sirve crear el locals()[\"cs_\" + str(i)]\r\n",
        "  cs.collections[0].set_label('fitted curve') # put the label of ax.contour\r\n",
        "  ax.scatter(df['X'],df['Y'],c='red',marker=\".\",linewidth=1, label='points')\r\n",
        "  ax.set_xlabel('X')\r\n",
        "  ax.set_ylabel('Y',rotation=0)\r\n",
        "  ax.grid(color='black', linestyle='dotted', linewidth=0.25)\r\n",
        "  ax.set_title(str(i+1) +'° orthogonal projection onto XY-Plane') ####SE TIENE QUE MODIFICAR\r\n",
        "  ax.legend(fontsize = 8.5)\r\n",
        "\r\n",
        "  textstr = 'Parameters\\n$\\mathrm{Xc}=%.3f$ mm\\n$\\mathrm{Yc}=%.3f$ mm\\n$\\mathrm{a}=%.3f$ mm\\n$\\mathrm{b}=%.3f$ mm\\n$\\mathrm{alpha}=%.3f$°'%(carac[0], carac[1], carac[2], carac[3], carac[4])  \r\n",
        "  # these are matplotlib.patch.Patch properties\r\n",
        "  props = dict(boxstyle='round', facecolor='wheat', alpha=0.5)\r\n",
        "\r\n",
        "  # place a text box in upper left in axes coords\r\n",
        "  ax.text(0.025, 0.975, textstr, transform=ax.transAxes, fontsize=8.5,\r\n",
        "  verticalalignment='top', bbox=props)\r\n",
        "\r\n",
        "  #OBTENCIÓN DE PUNTOS\r\n",
        "  v = cs.collections[0].get_paths()[0].vertices #solo coordenadas X e Y (a partir de la gráfica anterior)\r\n",
        "  #Hallar la coordenadas Z\r\n",
        "  regr = linear_model.LinearRegression()\r\n",
        "  regr.fit(np.reshape(df['X'].values, (-1, 1)), np.reshape(df['Z'].values, (-1, 1)))\r\n",
        "  z_pred = regr.predict(v[:,0:1])\r\n",
        "  v = np.append(v, z_pred, axis=1) #X, Y and Z coordenates\r\n",
        "  section = (np.ones(z_pred.shape, dtype=int))*(i+1) #SOLUCIÓN: crear una matriz de unos y multiplicarlos por i+1 [tiene que ser string]\r\n",
        "  res = np.array([[str(ele)+'°' for ele in sub] for sub in section])\r\n",
        "  df_out=pd.DataFrame(np.append(v, res, axis=1), columns=('X','Y','Z','section')) #dataframe con columnas (o->output)\r\n",
        "  return fig, v, df_out\r\n",
        "\r\n",
        "def caracteristicas(coef):\r\n",
        "  a=coef[0]; b=coef[1]/2; c=coef[2]; d=coef[3]/2; f=coef[4]/2; g=coef[5]\r\n",
        "  Xc=(c*d-b*f)/(b**2-a*c)\r\n",
        "  Yc=(a*f-b*d)/(b**2-a*c)\r\n",
        "  ac=math.sqrt((2*(a*f**2+c*d**2+g*b**2-2*b*d*f-a*c*g))/((b**2-a*c)*((math.sqrt((a-c)**2+4*b**2))-(a+c))))\r\n",
        "  bc=math.sqrt((2*(a*f**2+c*d**2+g*b**2-2*b*d*f-a*c*g))/((b**2-a*c)*(-1*(math.sqrt((a-c)**2+4*b**2))-(a+c))))\r\n",
        "  if b==0 and a<c:\r\n",
        "    alpha=0\r\n",
        "  elif b==0 and a>c:\r\n",
        "    alpha=90\r\n",
        "  elif b!=0 and a<c:\r\n",
        "    alpha=(math.atan(2*b/(a-c))/2)*(180/math.pi) \r\n",
        "  elif b!=0 and a>c:\r\n",
        "    alpha=(math.pi/2+(math.atan(2*b/(a-c)))/2)*(180/math.pi) #alpha sale en grados sexagesimales\r\n",
        "  carac = [Xc, Yc, ac, bc, alpha]\r\n",
        "  return carac\r\n",
        "\r\n",
        "def get_table_download_link(v): \r\n",
        "  v = pd.DataFrame(v).to_csv(index=False)\r\n",
        "  b64 = base64.b64encode(v.encode()).decode()  # some strings <-> bytes conversions necessary here\r\n",
        "  return f'<a href=\"data:application/octet-stream;base64,{b64}\" download=\"points.dat\">Download DAT file</a>'\r\n",
        "\r\n",
        "def get_image_download_link(fig):\r\n",
        "\tbuffered = BytesIO()\r\n",
        "\tfig.savefig(buffered, format=\"png\", dpi=300)\r\n",
        "\timg_str = base64.b64encode(buffered.getvalue()).decode()\r\n",
        "\t#href = f'<a href=\"data:file/jpg;base64,{img_str}\">Download result</a>'\r\n",
        "\treturn f'<a href=\"data:file/jpg;base64,{img_str}\" download=\"graph.png\">Download graph</a>'\r\n",
        "\r\n",
        "#APLICACIÓN\r\n",
        "image = Image.open('/content/drive/MyDrive/Tesis William/logo.png')\r\n",
        "st.image(image, use_column_width=True)\r\n",
        "st.title('Femoral Segmentator')\r\n",
        "st.write('Program created by William Solórzano, with the support of Ph.D. Carlos Ojeda and Ph.D. Andrés Díaz Lantada.') \r\n",
        "st.write('This program allows the elliptical adjustament from input points and return the coefficients of the XY projection, its parameters and the 3D points of the elliptical section to import into NX')\r\n",
        "st.write('General equation of ellipse:')\r\n",
        "st.latex('Ax^2 + Bxy + Cy^2 + Dx + Ey + F')\r\n",
        "\r\n",
        "multiple_files = st.file_uploader(\r\n",
        "    \"Multiple File Uploader\",\r\n",
        "    accept_multiple_files=True,\r\n",
        "    type='dat'\r\n",
        ")\r\n",
        "\r\n",
        "count=0\r\n",
        "df_united = pd.DataFrame() #dataframe vacio\r\n",
        "\r\n",
        "if len(multiple_files)>0:\r\n",
        "  st.header('**Input data**')\r\n",
        "  st.write('')\r\n",
        "  for file in multiple_files: #cada file en archivos multiples\r\n",
        "    file_container = st.beta_expander(\r\n",
        "        f\"File name: {file.name} (\" + str(count+1) + \"°)\"\r\n",
        "    )\r\n",
        "    data = io.BytesIO(file.getbuffer())\r\n",
        "\r\n",
        "    #Preprocessing \r\n",
        "    df = pd.read_csv(data, sep=\",\", names=('X','Y','Z')) #Ingreso con data .dat\r\n",
        "    df=df.drop([0,1,2,df.shape[0]-1],axis=0) #las 3 primera columnas no sirven\r\n",
        "    df.reset_index(drop=True, inplace=True)\r\n",
        "    df = df.astype(float)\r\n",
        "\r\n",
        "    file_container.table(df) #se puede colocar table o write\r\n",
        "    locals()[\"df_\" + str(count)] = df.copy() #hasta aquí funciona\r\n",
        "    count += 1\r\n",
        "\r\n",
        "  st.write('')\r\n",
        "  st.header('**Elliptical adjustment**')\r\n",
        "  st.write('')\r\n",
        "\r\n",
        "  for i in range(0,len(multiple_files),1):\r\n",
        "    locals()[\"coef_\" + str(i)] = ajuste(locals()[\"df_\" + str(i)]) #ajuste, se obtiene coef\r\n",
        "    locals()[\"carac_\" + str(i)] = caracteristicas(locals()[\"coef_\" + str(i)]) #características, se obtiene carac a partir de coef\r\n",
        "    locals()[\"fig_\" + str(i)], locals()[\"v_\" + str(i)], locals()[\"df_\" + str(i)] = grafica(locals()[\"df_\" + str(i)], locals()[\"coef_\" + str(i)],i, locals()[\"carac_\" + str(i)]) #cambie esto v -> txt OOOOOO\r\n",
        "    st.pyplot(locals()[\"fig_\" + str(i)])\r\n",
        "    st.markdown(get_image_download_link(locals()[\"fig_\" + str(i)]), unsafe_allow_html=True)\r\n",
        "\r\n",
        "    df_coef = pd.DataFrame(locals()[\"coef_\" + str(i)], index = ['A', 'B', 'C', 'D', 'E', 'F'], columns=['coefficients'])\r\n",
        "    if st.checkbox(\"Coefficients of \" + str(i+1) +'° XY-Plane projection'):\r\n",
        "      st.table(df_coef)\r\n",
        "\r\n",
        "    df_prm = pd.DataFrame(locals()[\"carac_\" + str(i)], index = ['Xc', 'Yc', 'a', 'b', 'alpha'], columns=['parameters'])\r\n",
        "    if st.checkbox(\"Parameters of \" + str(i+1) +'° XY-Plane projection'):\r\n",
        "      st.table(df_prm)\r\n",
        "\r\n",
        "    df_united = pd.concat((df_united, locals()[\"df_\" + str(i)]), axis=0, ignore_index=True) #funciona\r\n",
        "    st.markdown(get_table_download_link(locals()[\"v_\" + str(i)]), unsafe_allow_html=True)\r\n",
        "\r\n",
        "  st.write('')\r\n",
        "  st.header('**3D View**')\r\n",
        "  st.write('')     \r\n",
        "  fig = px.line_3d(df_united, x=\"X\", y=\"Y\", z=\"Z\", color='section')\r\n",
        "  st.write(fig)"
      ],
      "execution_count": null,
      "outputs": [
        {
          "output_type": "stream",
          "text": [
            "Writing app.py\n"
          ],
          "name": "stdout"
        }
      ]
    },
    {
      "cell_type": "code",
      "metadata": {
        "colab": {
          "background_save": true,
          "base_uri": "https://localhost:8080/"
        },
        "id": "JMHGLwL7Eg8o",
        "outputId": "38df9170-eeca-4208-e179-4006e2fd786a"
      },
      "source": [
        "!npm install localtunnel\r\n",
        "!streamlit run app.py &>/dev/null&\r\n",
        "!npx localtunnel --port 8501"
      ],
      "execution_count": null,
      "outputs": [
        {
          "output_type": "stream",
          "text": [
            "\u001b[K\u001b[?25h\u001b[37;40mnpm\u001b[0m \u001b[0m\u001b[30;43mWARN\u001b[0m \u001b[0m\u001b[35msaveError\u001b[0m ENOENT: no such file or directory, open '/content/package.json'\n",
            "\u001b[0m\u001b[37;40mnpm\u001b[0m \u001b[0m\u001b[34;40mnotice\u001b[0m\u001b[35m\u001b[0m created a lockfile as package-lock.json. You should commit this file.\n",
            "\u001b[0m\u001b[37;40mnpm\u001b[0m \u001b[0m\u001b[30;43mWARN\u001b[0m \u001b[0m\u001b[35menoent\u001b[0m ENOENT: no such file or directory, open '/content/package.json'\n",
            "\u001b[0m\u001b[37;40mnpm\u001b[0m \u001b[0m\u001b[30;43mWARN\u001b[0m\u001b[35m\u001b[0m content No description\n",
            "\u001b[0m\u001b[37;40mnpm\u001b[0m \u001b[0m\u001b[30;43mWARN\u001b[0m\u001b[35m\u001b[0m content No repository field.\n",
            "\u001b[0m\u001b[37;40mnpm\u001b[0m \u001b[0m\u001b[30;43mWARN\u001b[0m\u001b[35m\u001b[0m content No README data\n",
            "\u001b[0m\u001b[37;40mnpm\u001b[0m \u001b[0m\u001b[30;43mWARN\u001b[0m\u001b[35m\u001b[0m content No license field.\n",
            "\u001b[0m\n",
            "+ localtunnel@2.0.1\n",
            "added 22 packages from 22 contributors and audited 22 packages in 1.525s\n",
            "\n",
            "3 packages are looking for funding\n",
            "  run `npm fund` for details\n",
            "\n",
            "found \u001b[92m0\u001b[0m vulnerabilities\n",
            "\n",
            "\u001b[K\u001b[?25hnpx: installed 22 in 2.767s\n",
            "your url is: https://stale-duck-20.loca.lt\n"
          ],
          "name": "stdout"
        }
      ]
    }
  ]
}